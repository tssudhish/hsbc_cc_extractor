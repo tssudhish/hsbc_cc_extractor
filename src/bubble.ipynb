{
 "cells": [
  {
   "cell_type": "markdown",
   "metadata": {},
   "source": [
    "# Create a bubble chart"
   ]
  },
  {
   "cell_type": "code",
   "execution_count": 2,
   "metadata": {},
   "outputs": [
    {
     "name": "stdout",
     "output_type": "stream",
     "text": [
      "Stock-Screener184229.csv\n"
     ]
    }
   ],
   "source": [
    "import os\n",
    "files = os.listdir(os.path.join('..', \"bubble\"))\n",
    "for file in files:\n",
    "    print(file)\n"
   ]
  },
  {
   "cell_type": "code",
   "execution_count": 3,
   "metadata": {},
   "outputs": [],
   "source": [
    "import pandas as pd\n",
    "\n",
    "df = pd.read_csv(os.path.join(\"..\",\"bubble\",'Stock-Screener184229.csv'))"
   ]
  },
  {
   "cell_type": "code",
   "execution_count": 4,
   "metadata": {},
   "outputs": [
    {
     "data": {
      "text/html": [
       "<div>\n",
       "<style scoped>\n",
       "    .dataframe tbody tr th:only-of-type {\n",
       "        vertical-align: middle;\n",
       "    }\n",
       "\n",
       "    .dataframe tbody tr th {\n",
       "        vertical-align: top;\n",
       "    }\n",
       "\n",
       "    .dataframe thead th {\n",
       "        text-align: right;\n",
       "    }\n",
       "</style>\n",
       "<table border=\"1\" class=\"dataframe\">\n",
       "  <thead>\n",
       "    <tr style=\"text-align: right;\">\n",
       "      <th></th>\n",
       "      <th>Company</th>\n",
       "      <th>CMP (Rs)</th>\n",
       "      <th>P/E (x)</th>\n",
       "      <th>MCap (Rs m)</th>\n",
       "      <th>D/E (Curr FY, x)</th>\n",
       "      <th>RoE (5 yrs, Avg. %)</th>\n",
       "      <th>Div Payout Ratio</th>\n",
       "      <th>Profit CAGR (3 yrs,  %)</th>\n",
       "    </tr>\n",
       "  </thead>\n",
       "  <tbody>\n",
       "    <tr>\n",
       "      <th>0</th>\n",
       "      <td>ZOMATO</td>\n",
       "      <td>184.1</td>\n",
       "      <td>462.9</td>\n",
       "      <td>16,24,607</td>\n",
       "      <td>0.0</td>\n",
       "      <td>0.0%</td>\n",
       "      <td>0.0</td>\n",
       "      <td>NM</td>\n",
       "    </tr>\n",
       "    <tr>\n",
       "      <th>1</th>\n",
       "      <td>ADANI GREEN ENERGY</td>\n",
       "      <td>1,863.8</td>\n",
       "      <td>304.0</td>\n",
       "      <td>29,52,320</td>\n",
       "      <td>10.6</td>\n",
       "      <td>19.9%</td>\n",
       "      <td>0.0</td>\n",
       "      <td>90.6%</td>\n",
       "    </tr>\n",
       "    <tr>\n",
       "      <th>2</th>\n",
       "      <td>ADANI TOTAL GAS</td>\n",
       "      <td>978.4</td>\n",
       "      <td>165.6</td>\n",
       "      <td>10,76,054</td>\n",
       "      <td>0.4</td>\n",
       "      <td>22.5%</td>\n",
       "      <td>4.1</td>\n",
       "      <td>12.3%</td>\n",
       "    </tr>\n",
       "    <tr>\n",
       "      <th>3</th>\n",
       "      <td>BHARTI AIRTEL</td>\n",
       "      <td>1,425.8</td>\n",
       "      <td>147.9</td>\n",
       "      <td>86,63,484</td>\n",
       "      <td>2.1</td>\n",
       "      <td>6.1%</td>\n",
       "      <td>19.4</td>\n",
       "      <td>NM</td>\n",
       "    </tr>\n",
       "    <tr>\n",
       "      <th>4</th>\n",
       "      <td>TRENT</td>\n",
       "      <td>4,971.1</td>\n",
       "      <td>130.5</td>\n",
       "      <td>17,67,146</td>\n",
       "      <td>0.1</td>\n",
       "      <td>11.5%</td>\n",
       "      <td>7.7</td>\n",
       "      <td>NM</td>\n",
       "    </tr>\n",
       "  </tbody>\n",
       "</table>\n",
       "</div>"
      ],
      "text/plain": [
       "               Company CMP (Rs)  P/E (x) MCap (Rs m)  D/E (Curr FY, x)  \\\n",
       "0               ZOMATO    184.1    462.9   16,24,607               0.0   \n",
       "1  ADANI GREEN ENERGY   1,863.8    304.0   29,52,320              10.6   \n",
       "2      ADANI TOTAL GAS    978.4    165.6   10,76,054               0.4   \n",
       "3        BHARTI AIRTEL  1,425.8    147.9   86,63,484               2.1   \n",
       "4                TRENT  4,971.1    130.5   17,67,146               0.1   \n",
       "\n",
       "  RoE (5 yrs, Avg. %)  Div Payout Ratio Profit CAGR (3 yrs,  %)  \n",
       "0                0.0%               0.0                      NM  \n",
       "1               19.9%               0.0                   90.6%  \n",
       "2               22.5%               4.1                   12.3%  \n",
       "3                6.1%              19.4                      NM  \n",
       "4               11.5%               7.7                      NM  "
      ]
     },
     "execution_count": 4,
     "metadata": {},
     "output_type": "execute_result"
    }
   ],
   "source": [
    "df.head()"
   ]
  },
  {
   "cell_type": "code",
   "execution_count": 12,
   "metadata": {},
   "outputs": [],
   "source": [
    "df['CMP (Rs)'] = df['CMP (Rs)'].astype(float)\n",
    "df['MCap (Rs m)'] = df['MCap (Rs m)'].astype(float)\n",
    "df['D/E (Curr FY, x)'] = df['D/E (Curr FY, x)'].astype(float)\n",
    "df['RoE (5 yrs, Avg. %)'] = df['RoE (5 yrs, Avg. %)'].astype(float)\n"
   ]
  },
  {
   "cell_type": "code",
   "execution_count": 44,
   "metadata": {},
   "outputs": [
    {
     "name": "stdout",
     "output_type": "stream",
     "text": [
      "Collecting seaborn\n",
      "  Downloading seaborn-0.13.2-py3-none-any.whl (294 kB)\n",
      "     -------------------------------------- 294.9/294.9 kB 3.0 MB/s eta 0:00:00\n",
      "Requirement already satisfied: pandas>=1.2 in d:\\users\\tssud\\miniconda3\\envs\\local\\lib\\site-packages (from seaborn) (1.5.1)\n",
      "Requirement already satisfied: matplotlib!=3.6.1,>=3.4 in d:\\users\\tssud\\miniconda3\\envs\\local\\lib\\site-packages (from seaborn) (3.9.0)\n",
      "Requirement already satisfied: numpy!=1.24.0,>=1.20 in d:\\users\\tssud\\miniconda3\\envs\\local\\lib\\site-packages (from seaborn) (1.23.4)\n",
      "Requirement already satisfied: contourpy>=1.0.1 in d:\\users\\tssud\\miniconda3\\envs\\local\\lib\\site-packages (from matplotlib!=3.6.1,>=3.4->seaborn) (1.2.1)\n",
      "Requirement already satisfied: python-dateutil>=2.7 in d:\\users\\tssud\\miniconda3\\envs\\local\\lib\\site-packages (from matplotlib!=3.6.1,>=3.4->seaborn) (2.8.2)\n",
      "Requirement already satisfied: pyparsing>=2.3.1 in d:\\users\\tssud\\miniconda3\\envs\\local\\lib\\site-packages (from matplotlib!=3.6.1,>=3.4->seaborn) (3.0.9)\n",
      "Requirement already satisfied: packaging>=20.0 in d:\\users\\tssud\\miniconda3\\envs\\local\\lib\\site-packages (from matplotlib!=3.6.1,>=3.4->seaborn) (21.3)\n",
      "Requirement already satisfied: pillow>=8 in d:\\users\\tssud\\miniconda3\\envs\\local\\lib\\site-packages (from matplotlib!=3.6.1,>=3.4->seaborn) (10.3.0)\n",
      "Requirement already satisfied: importlib-resources>=3.2.0 in d:\\users\\tssud\\miniconda3\\envs\\local\\lib\\site-packages (from matplotlib!=3.6.1,>=3.4->seaborn) (6.4.0)\n",
      "Requirement already satisfied: fonttools>=4.22.0 in d:\\users\\tssud\\miniconda3\\envs\\local\\lib\\site-packages (from matplotlib!=3.6.1,>=3.4->seaborn) (4.53.0)\n",
      "Requirement already satisfied: kiwisolver>=1.3.1 in d:\\users\\tssud\\miniconda3\\envs\\local\\lib\\site-packages (from matplotlib!=3.6.1,>=3.4->seaborn) (1.4.5)\n",
      "Requirement already satisfied: cycler>=0.10 in d:\\users\\tssud\\miniconda3\\envs\\local\\lib\\site-packages (from matplotlib!=3.6.1,>=3.4->seaborn) (0.12.1)\n",
      "Requirement already satisfied: pytz>=2020.1 in d:\\users\\tssud\\miniconda3\\envs\\local\\lib\\site-packages (from pandas>=1.2->seaborn) (2022.5)\n",
      "Requirement already satisfied: zipp>=3.1.0 in d:\\users\\tssud\\miniconda3\\envs\\local\\lib\\site-packages (from importlib-resources>=3.2.0->matplotlib!=3.6.1,>=3.4->seaborn) (3.10.0)\n",
      "Requirement already satisfied: six>=1.5 in d:\\users\\tssud\\miniconda3\\envs\\local\\lib\\site-packages (from python-dateutil>=2.7->matplotlib!=3.6.1,>=3.4->seaborn) (1.16.0)\n",
      "Installing collected packages: seaborn\n",
      "Successfully installed seaborn-0.13.2\n",
      "Collecting plotly\n",
      "  Downloading plotly-5.22.0-py3-none-any.whl (16.4 MB)\n",
      "     --------------------------------------- 16.4/16.4 MB 43.7 MB/s eta 0:00:00\n",
      "Collecting tenacity>=6.2.0\n",
      "  Downloading tenacity-8.3.0-py3-none-any.whl (25 kB)\n",
      "Requirement already satisfied: packaging in d:\\users\\tssud\\miniconda3\\envs\\local\\lib\\site-packages (from plotly) (21.3)\n",
      "Requirement already satisfied: pyparsing!=3.0.5,>=2.0.2 in d:\\users\\tssud\\miniconda3\\envs\\local\\lib\\site-packages (from packaging->plotly) (3.0.9)\n",
      "Installing collected packages: tenacity, plotly\n",
      "Successfully installed plotly-5.22.0 tenacity-8.3.0\n"
     ]
    }
   ],
   "source": [
    "!pip install seaborn\n",
    "!pip install plotly"
   ]
  },
  {
   "cell_type": "code",
   "execution_count": 46,
   "metadata": {},
   "outputs": [],
   "source": [
    "df['MCap (Rs m)'] = df['MCap (Rs m)'] * 0.0001"
   ]
  },
  {
   "cell_type": "code",
   "execution_count": 48,
   "metadata": {},
   "outputs": [
    {
     "data": {
      "application/vnd.plotly.v1+json": {
       "config": {
        "plotlyServerURL": "https://plot.ly"
       },
       "data": [
        {
         "hovertemplate": "<b>%{hovertext}</b><br><br>P/E (x)=%{x}<br>RoE (5 yrs, Avg. %)=%{y}<br>MCap (Rs m)=%{marker.size}<extra></extra>",
         "hovertext": [
          "ZOMATO",
          "ADANI GREEN ENERGY ",
          "ADANI TOTAL GAS",
          "BHARTI AIRTEL",
          "TRENT",
          "DLF",
          "AVENUE SUPERMARTS ",
          "ABB INDIA",
          "CG POWER & INDUSTRIAL",
          "ADANI ENTERPRISES",
          "SIEMENS",
          "ADANI TRANSMISSION",
          "HAVELLS INDIA",
          "MACROTECH DEVELOPERS",
          "PIDILITE INDUSTRIES",
          "VARUN BEVERAGES",
          "TITAN",
          "TATA CONSUMER",
          "HDFC LIFE INSURANCE",
          "NESTLE",
          "SBI LIFE INSURANCE ",
          "DIVIS LABORATORIES",
          "CUMMINS INDIA",
          "JSW ENERGY",
          "TVS MOTORS",
          "BRITANNIA",
          "DABUR",
          "HUL",
          "POLYCAB INDIA",
          "TECH MAHINDRA",
          "BHARAT ELECTRONICS",
          "ASIAN PAINTS",
          "INDIAN OVERSEAS BANK",
          "TATA POWER",
          "ULTRATECH CEMENT",
          "HINDUSTAN AERO.",
          "MOTHERSON SUMI",
          "SUN PHARMA",
          "HINDUSTAN ZINC",
          "EICHER MOTOR",
          "BAJAJ AUTO",
          "ADANI PORTS & SEZ",
          "IRFC",
          "AMBUJA CEMENT",
          "CHOLAMANDALAM INVEST",
          "L&T INFOTECH",
          "M&M",
          "L&T",
          "BAJAJ FINANCE",
          "TCS",
          "MARUTI SUZUKI",
          "HDFC",
          "CIPLA",
          "HERO MOTOCORP",
          "NHPC",
          "CADILA HEALTHCARE",
          "ITC",
          "RELIANCE IND.",
          "HCL TECHNOLOGIES",
          "JSW STEEL",
          "INFOSYS",
          "WIPRO",
          "VEDANTA",
          "INTERGLOBE AVIATION (INDIGO)",
          "KOTAK MAHINDRA BANK",
          "NTPC",
          "HDFC BANK",
          "DR. REDDYS LAB",
          "POWER GRID",
          "JINDAL STEEL & POWER",
          "ICICI BANK",
          "LIFE INSURANCE CORPORATION",
          "GAIL",
          "PNB",
          "GRASIM",
          "BAJAJ FINSERV",
          "HINDALCO",
          "MOTILAL OSWAL",
          "ADANI POWER",
          "AXIS BANK",
          "INDUSIND BANK",
          "SBI",
          "TATA MOTORS",
          "REC",
          "COAL INDIA",
          "UNION BANK",
          "BANK OF BARODA",
          "CANARA BANK",
          "ONGC",
          "POWER FINANCE CORPORATION",
          "IOC",
          "BPCL"
         ],
         "legendgroup": "",
         "marker": {
          "color": "#636efa",
          "size": [
           162.4607,
           295.232,
           107.6054,
           866.3484000000001,
           176.71460000000002,
           209.0772,
           308.8021,
           171.0461,
           101.26490000000001,
           366.9322,
           244.79350000000002,
           113.9085,
           116.209,
           142.7674,
           158.83620000000002,
           197.26600000000002,
           305.7047,
           108.2325,
           121.05510000000001,
           241.3864,
           142.8017,
           120.12060000000001,
           99.80030000000001,
           109.3054,
           114.34870000000001,
           131.5924,
           108.57180000000001,
           605.4074,
           102.8767,
           134.6258,
           206.93980000000002,
           280.9203,
           127.17540000000001,
           141.6973,
           302.0409,
           317.3571,
           106.1526,
           361.57980000000003,
           290.68080000000003,
           130.4468,
           271.45210000000003,
           297.8508,
           226.8693,
           153.19400000000002,
           112.4954,
           147.35760000000002,
           355.28860000000003,
           485.68690000000004,
           445.7674,
           1408.4853,
           402.86920000000003,
           505.4302,
           120.89890000000001,
           111.4346,
           103.6648,
           106.2583,
           548.2041,
           1988.8639,
           388.339,
           223.02540000000002,
           636.6309,
           253.3035,
           171.1588,
           168.7252,
           348.49780000000004,
           349.75870000000003,
           1196.3255000000001,
           101.0797,
           287.7142,
           104.7681,
           789.041,
           628.4518,
           139.7866,
           137.6927,
           161.8169,
           249.64610000000002,
           152.86690000000002,
           144.8219,
           295.9236,
           366.613,
           116.2017,
           740.6535,
           322.5589,
           130.8186,
           295.2255,
           111.94680000000001,
           140.0405,
           107.85000000000001,
           327.5905,
           159.59290000000001,
           231.7295,
           130.17690000000002
          ],
          "sizemode": "area",
          "sizeref": 0.5524621944444444,
          "symbol": "circle"
         },
         "mode": "markers",
         "name": "",
         "orientation": "v",
         "showlegend": false,
         "type": "scatter",
         "x": [
          462.9,
          304,
          165.6,
          147.9,
          130.5,
          128.2,
          121.8,
          116.9,
          116.2,
          111.4,
          104.8,
          95,
          91.4,
          91.1,
          90.7,
          89.2,
          87.5,
          83.2,
          76.9,
          75.5,
          75.4,
          75.1,
          67.6,
          64,
          62.8,
          61.6,
          59.9,
          58.9,
          57.1,
          56.4,
          52.5,
          51.8,
          47.7,
          45.7,
          43.3,
          43.1,
          38.2,
          37.5,
          37.5,
          36.7,
          36.5,
          36,
          35.3,
          35.3,
          33,
          32.1,
          31.9,
          31.2,
          30.9,
          30.6,
          30.5,
          30.4,
          29.1,
          28.9,
          28.6,
          27.7,
          26.5,
          25.3,
          24.7,
          24.4,
          24.2,
          22.7,
          22.7,
          20.6,
          19.4,
          18.7,
          18.3,
          18.2,
          17.8,
          17.6,
          17.5,
          17.1,
          17,
          16.5,
          16.4,
          16,
          15.1,
          14.8,
          14.2,
          13.9,
          12.9,
          10.9,
          10.4,
          9.2,
          9.2,
          8.2,
          7.6,
          7.3,
          6.1,
          6,
          5.6,
          5
         ],
         "xaxis": "x",
         "y": [
          0,
          19.9,
          22.5,
          6.1,
          11.5,
          1.5,
          12.6,
          14,
          21.7,
          5.4,
          11.3,
          14.6,
          18.1,
          14.8,
          21,
          20.7,
          21.9,
          6.8,
          15.3,
          91.1,
          14.9,
          19.8,
          17.3,
          7.8,
          19.8,
          47.3,
          22.2,
          31.5,
          18.1,
          19.3,
          19.4,
          26.2,
          4.1,
          11.6,
          11.8,
          22.6,
          9.7,
          8.9,
          34.9,
          17.6,
          20.9,
          14.3,
          12.1,
          10.4,
          17,
          26.8,
          13.3,
          12.8,
          17.3,
          43.4,
          11.3,
          13.9,
          11.5,
          20.5,
          10.6,
          14.3,
          24.8,
          9.2,
          21.9,
          17.5,
          28.6,
          17.5,
          22.6,
          0.5,
          12.5,
          11.7,
          15.3,
          13.8,
          18.4,
          9.8,
          10.6,
          134.5,
          14.6,
          3.8,
          11,
          22,
          10.5,
          16.5,
          24,
          7.4,
          11.1,
          11.9,
          8.7,
          17.7,
          48.4,
          4.5,
          5.6,
          8.9,
          12.3,
          18.6,
          12.5,
          18.3
         ],
         "yaxis": "y"
        }
       ],
       "layout": {
        "legend": {
         "itemsizing": "constant",
         "tracegroupgap": 0
        },
        "margin": {
         "t": 60
        },
        "template": {
         "data": {
          "bar": [
           {
            "error_x": {
             "color": "#2a3f5f"
            },
            "error_y": {
             "color": "#2a3f5f"
            },
            "marker": {
             "line": {
              "color": "#E5ECF6",
              "width": 0.5
             },
             "pattern": {
              "fillmode": "overlay",
              "size": 10,
              "solidity": 0.2
             }
            },
            "type": "bar"
           }
          ],
          "barpolar": [
           {
            "marker": {
             "line": {
              "color": "#E5ECF6",
              "width": 0.5
             },
             "pattern": {
              "fillmode": "overlay",
              "size": 10,
              "solidity": 0.2
             }
            },
            "type": "barpolar"
           }
          ],
          "carpet": [
           {
            "aaxis": {
             "endlinecolor": "#2a3f5f",
             "gridcolor": "white",
             "linecolor": "white",
             "minorgridcolor": "white",
             "startlinecolor": "#2a3f5f"
            },
            "baxis": {
             "endlinecolor": "#2a3f5f",
             "gridcolor": "white",
             "linecolor": "white",
             "minorgridcolor": "white",
             "startlinecolor": "#2a3f5f"
            },
            "type": "carpet"
           }
          ],
          "choropleth": [
           {
            "colorbar": {
             "outlinewidth": 0,
             "ticks": ""
            },
            "type": "choropleth"
           }
          ],
          "contour": [
           {
            "colorbar": {
             "outlinewidth": 0,
             "ticks": ""
            },
            "colorscale": [
             [
              0,
              "#0d0887"
             ],
             [
              0.1111111111111111,
              "#46039f"
             ],
             [
              0.2222222222222222,
              "#7201a8"
             ],
             [
              0.3333333333333333,
              "#9c179e"
             ],
             [
              0.4444444444444444,
              "#bd3786"
             ],
             [
              0.5555555555555556,
              "#d8576b"
             ],
             [
              0.6666666666666666,
              "#ed7953"
             ],
             [
              0.7777777777777778,
              "#fb9f3a"
             ],
             [
              0.8888888888888888,
              "#fdca26"
             ],
             [
              1,
              "#f0f921"
             ]
            ],
            "type": "contour"
           }
          ],
          "contourcarpet": [
           {
            "colorbar": {
             "outlinewidth": 0,
             "ticks": ""
            },
            "type": "contourcarpet"
           }
          ],
          "heatmap": [
           {
            "colorbar": {
             "outlinewidth": 0,
             "ticks": ""
            },
            "colorscale": [
             [
              0,
              "#0d0887"
             ],
             [
              0.1111111111111111,
              "#46039f"
             ],
             [
              0.2222222222222222,
              "#7201a8"
             ],
             [
              0.3333333333333333,
              "#9c179e"
             ],
             [
              0.4444444444444444,
              "#bd3786"
             ],
             [
              0.5555555555555556,
              "#d8576b"
             ],
             [
              0.6666666666666666,
              "#ed7953"
             ],
             [
              0.7777777777777778,
              "#fb9f3a"
             ],
             [
              0.8888888888888888,
              "#fdca26"
             ],
             [
              1,
              "#f0f921"
             ]
            ],
            "type": "heatmap"
           }
          ],
          "heatmapgl": [
           {
            "colorbar": {
             "outlinewidth": 0,
             "ticks": ""
            },
            "colorscale": [
             [
              0,
              "#0d0887"
             ],
             [
              0.1111111111111111,
              "#46039f"
             ],
             [
              0.2222222222222222,
              "#7201a8"
             ],
             [
              0.3333333333333333,
              "#9c179e"
             ],
             [
              0.4444444444444444,
              "#bd3786"
             ],
             [
              0.5555555555555556,
              "#d8576b"
             ],
             [
              0.6666666666666666,
              "#ed7953"
             ],
             [
              0.7777777777777778,
              "#fb9f3a"
             ],
             [
              0.8888888888888888,
              "#fdca26"
             ],
             [
              1,
              "#f0f921"
             ]
            ],
            "type": "heatmapgl"
           }
          ],
          "histogram": [
           {
            "marker": {
             "pattern": {
              "fillmode": "overlay",
              "size": 10,
              "solidity": 0.2
             }
            },
            "type": "histogram"
           }
          ],
          "histogram2d": [
           {
            "colorbar": {
             "outlinewidth": 0,
             "ticks": ""
            },
            "colorscale": [
             [
              0,
              "#0d0887"
             ],
             [
              0.1111111111111111,
              "#46039f"
             ],
             [
              0.2222222222222222,
              "#7201a8"
             ],
             [
              0.3333333333333333,
              "#9c179e"
             ],
             [
              0.4444444444444444,
              "#bd3786"
             ],
             [
              0.5555555555555556,
              "#d8576b"
             ],
             [
              0.6666666666666666,
              "#ed7953"
             ],
             [
              0.7777777777777778,
              "#fb9f3a"
             ],
             [
              0.8888888888888888,
              "#fdca26"
             ],
             [
              1,
              "#f0f921"
             ]
            ],
            "type": "histogram2d"
           }
          ],
          "histogram2dcontour": [
           {
            "colorbar": {
             "outlinewidth": 0,
             "ticks": ""
            },
            "colorscale": [
             [
              0,
              "#0d0887"
             ],
             [
              0.1111111111111111,
              "#46039f"
             ],
             [
              0.2222222222222222,
              "#7201a8"
             ],
             [
              0.3333333333333333,
              "#9c179e"
             ],
             [
              0.4444444444444444,
              "#bd3786"
             ],
             [
              0.5555555555555556,
              "#d8576b"
             ],
             [
              0.6666666666666666,
              "#ed7953"
             ],
             [
              0.7777777777777778,
              "#fb9f3a"
             ],
             [
              0.8888888888888888,
              "#fdca26"
             ],
             [
              1,
              "#f0f921"
             ]
            ],
            "type": "histogram2dcontour"
           }
          ],
          "mesh3d": [
           {
            "colorbar": {
             "outlinewidth": 0,
             "ticks": ""
            },
            "type": "mesh3d"
           }
          ],
          "parcoords": [
           {
            "line": {
             "colorbar": {
              "outlinewidth": 0,
              "ticks": ""
             }
            },
            "type": "parcoords"
           }
          ],
          "pie": [
           {
            "automargin": true,
            "type": "pie"
           }
          ],
          "scatter": [
           {
            "fillpattern": {
             "fillmode": "overlay",
             "size": 10,
             "solidity": 0.2
            },
            "type": "scatter"
           }
          ],
          "scatter3d": [
           {
            "line": {
             "colorbar": {
              "outlinewidth": 0,
              "ticks": ""
             }
            },
            "marker": {
             "colorbar": {
              "outlinewidth": 0,
              "ticks": ""
             }
            },
            "type": "scatter3d"
           }
          ],
          "scattercarpet": [
           {
            "marker": {
             "colorbar": {
              "outlinewidth": 0,
              "ticks": ""
             }
            },
            "type": "scattercarpet"
           }
          ],
          "scattergeo": [
           {
            "marker": {
             "colorbar": {
              "outlinewidth": 0,
              "ticks": ""
             }
            },
            "type": "scattergeo"
           }
          ],
          "scattergl": [
           {
            "marker": {
             "colorbar": {
              "outlinewidth": 0,
              "ticks": ""
             }
            },
            "type": "scattergl"
           }
          ],
          "scattermapbox": [
           {
            "marker": {
             "colorbar": {
              "outlinewidth": 0,
              "ticks": ""
             }
            },
            "type": "scattermapbox"
           }
          ],
          "scatterpolar": [
           {
            "marker": {
             "colorbar": {
              "outlinewidth": 0,
              "ticks": ""
             }
            },
            "type": "scatterpolar"
           }
          ],
          "scatterpolargl": [
           {
            "marker": {
             "colorbar": {
              "outlinewidth": 0,
              "ticks": ""
             }
            },
            "type": "scatterpolargl"
           }
          ],
          "scatterternary": [
           {
            "marker": {
             "colorbar": {
              "outlinewidth": 0,
              "ticks": ""
             }
            },
            "type": "scatterternary"
           }
          ],
          "surface": [
           {
            "colorbar": {
             "outlinewidth": 0,
             "ticks": ""
            },
            "colorscale": [
             [
              0,
              "#0d0887"
             ],
             [
              0.1111111111111111,
              "#46039f"
             ],
             [
              0.2222222222222222,
              "#7201a8"
             ],
             [
              0.3333333333333333,
              "#9c179e"
             ],
             [
              0.4444444444444444,
              "#bd3786"
             ],
             [
              0.5555555555555556,
              "#d8576b"
             ],
             [
              0.6666666666666666,
              "#ed7953"
             ],
             [
              0.7777777777777778,
              "#fb9f3a"
             ],
             [
              0.8888888888888888,
              "#fdca26"
             ],
             [
              1,
              "#f0f921"
             ]
            ],
            "type": "surface"
           }
          ],
          "table": [
           {
            "cells": {
             "fill": {
              "color": "#EBF0F8"
             },
             "line": {
              "color": "white"
             }
            },
            "header": {
             "fill": {
              "color": "#C8D4E3"
             },
             "line": {
              "color": "white"
             }
            },
            "type": "table"
           }
          ]
         },
         "layout": {
          "annotationdefaults": {
           "arrowcolor": "#2a3f5f",
           "arrowhead": 0,
           "arrowwidth": 1
          },
          "autotypenumbers": "strict",
          "coloraxis": {
           "colorbar": {
            "outlinewidth": 0,
            "ticks": ""
           }
          },
          "colorscale": {
           "diverging": [
            [
             0,
             "#8e0152"
            ],
            [
             0.1,
             "#c51b7d"
            ],
            [
             0.2,
             "#de77ae"
            ],
            [
             0.3,
             "#f1b6da"
            ],
            [
             0.4,
             "#fde0ef"
            ],
            [
             0.5,
             "#f7f7f7"
            ],
            [
             0.6,
             "#e6f5d0"
            ],
            [
             0.7,
             "#b8e186"
            ],
            [
             0.8,
             "#7fbc41"
            ],
            [
             0.9,
             "#4d9221"
            ],
            [
             1,
             "#276419"
            ]
           ],
           "sequential": [
            [
             0,
             "#0d0887"
            ],
            [
             0.1111111111111111,
             "#46039f"
            ],
            [
             0.2222222222222222,
             "#7201a8"
            ],
            [
             0.3333333333333333,
             "#9c179e"
            ],
            [
             0.4444444444444444,
             "#bd3786"
            ],
            [
             0.5555555555555556,
             "#d8576b"
            ],
            [
             0.6666666666666666,
             "#ed7953"
            ],
            [
             0.7777777777777778,
             "#fb9f3a"
            ],
            [
             0.8888888888888888,
             "#fdca26"
            ],
            [
             1,
             "#f0f921"
            ]
           ],
           "sequentialminus": [
            [
             0,
             "#0d0887"
            ],
            [
             0.1111111111111111,
             "#46039f"
            ],
            [
             0.2222222222222222,
             "#7201a8"
            ],
            [
             0.3333333333333333,
             "#9c179e"
            ],
            [
             0.4444444444444444,
             "#bd3786"
            ],
            [
             0.5555555555555556,
             "#d8576b"
            ],
            [
             0.6666666666666666,
             "#ed7953"
            ],
            [
             0.7777777777777778,
             "#fb9f3a"
            ],
            [
             0.8888888888888888,
             "#fdca26"
            ],
            [
             1,
             "#f0f921"
            ]
           ]
          },
          "colorway": [
           "#636efa",
           "#EF553B",
           "#00cc96",
           "#ab63fa",
           "#FFA15A",
           "#19d3f3",
           "#FF6692",
           "#B6E880",
           "#FF97FF",
           "#FECB52"
          ],
          "font": {
           "color": "#2a3f5f"
          },
          "geo": {
           "bgcolor": "white",
           "lakecolor": "white",
           "landcolor": "#E5ECF6",
           "showlakes": true,
           "showland": true,
           "subunitcolor": "white"
          },
          "hoverlabel": {
           "align": "left"
          },
          "hovermode": "closest",
          "mapbox": {
           "style": "light"
          },
          "paper_bgcolor": "white",
          "plot_bgcolor": "#E5ECF6",
          "polar": {
           "angularaxis": {
            "gridcolor": "white",
            "linecolor": "white",
            "ticks": ""
           },
           "bgcolor": "#E5ECF6",
           "radialaxis": {
            "gridcolor": "white",
            "linecolor": "white",
            "ticks": ""
           }
          },
          "scene": {
           "xaxis": {
            "backgroundcolor": "#E5ECF6",
            "gridcolor": "white",
            "gridwidth": 2,
            "linecolor": "white",
            "showbackground": true,
            "ticks": "",
            "zerolinecolor": "white"
           },
           "yaxis": {
            "backgroundcolor": "#E5ECF6",
            "gridcolor": "white",
            "gridwidth": 2,
            "linecolor": "white",
            "showbackground": true,
            "ticks": "",
            "zerolinecolor": "white"
           },
           "zaxis": {
            "backgroundcolor": "#E5ECF6",
            "gridcolor": "white",
            "gridwidth": 2,
            "linecolor": "white",
            "showbackground": true,
            "ticks": "",
            "zerolinecolor": "white"
           }
          },
          "shapedefaults": {
           "line": {
            "color": "#2a3f5f"
           }
          },
          "ternary": {
           "aaxis": {
            "gridcolor": "white",
            "linecolor": "white",
            "ticks": ""
           },
           "baxis": {
            "gridcolor": "white",
            "linecolor": "white",
            "ticks": ""
           },
           "bgcolor": "#E5ECF6",
           "caxis": {
            "gridcolor": "white",
            "linecolor": "white",
            "ticks": ""
           }
          },
          "title": {
           "x": 0.05
          },
          "xaxis": {
           "automargin": true,
           "gridcolor": "white",
           "linecolor": "white",
           "ticks": "",
           "title": {
            "standoff": 15
           },
           "zerolinecolor": "white",
           "zerolinewidth": 2
          },
          "yaxis": {
           "automargin": true,
           "gridcolor": "white",
           "linecolor": "white",
           "ticks": "",
           "title": {
            "standoff": 15
           },
           "zerolinecolor": "white",
           "zerolinewidth": 2
          }
         }
        },
        "title": {
         "text": "Interactive Bubble Chart"
        },
        "xaxis": {
         "anchor": "y",
         "domain": [
          0,
          1
         ],
         "title": {
          "text": "P/E"
         },
         "type": "log"
        },
        "yaxis": {
         "anchor": "x",
         "domain": [
          0,
          1
         ],
         "title": {
          "text": "RoE"
         },
         "type": "log"
        }
       }
      }
     },
     "metadata": {},
     "output_type": "display_data"
    }
   ],
   "source": [
    "import matplotlib.pyplot as plt\n",
    "\n",
    "import seaborn as sns\n",
    "\n",
    "import plotly.express as px\n",
    "\n",
    "fig = px.scatter(df, x='P/E (x)', y='RoE (5 yrs, Avg. %)', size='MCap (Rs m)', hover_name='Company',\n",
    "                 log_x=True, log_y=True, size_max=60)\n",
    "\n",
    "fig.update_layout(title='Interactive Bubble Chart', xaxis_title='P/E', yaxis_title='RoE')\n",
    "\n",
    "fig.show()\n"
   ]
  },
  {
   "cell_type": "code",
   "execution_count": 38,
   "metadata": {},
   "outputs": [
    {
     "data": {
      "image/png": "[encoded data removed]",
      "text/plain": [
       "<Figure size 640x480 with 1 Axes>"
      ]
     },
     "metadata": {},
     "output_type": "display_data"
    }
   ],
   "source": [
    "import matplotlib.pyplot as plt\n",
    "\n",
    "plt.scatter(df['P/E (x)'], df['RoE (5 yrs, Avg. %)'], s=df['MCap (Rs m)']/10000, alpha=0.5)\n",
    "plt.xlabel('P/E')\n",
    "plt.ylabel('RoE')\n",
    "plt.title('Bubble Chart')\n",
    "plt.show()"
   ]
  },
  {
   "cell_type": "code",
   "execution_count": 18,
   "metadata": {},
   "outputs": [],
   "source": [
    "pareto_front = df[(df['P/E (x)'] == df['P/E (x)'].max()) & (df['RoE (5 yrs, Avg. %)'] == df['RoE (5 yrs, Avg. %)'].max())]['Company']\n",
    "best_companies = pareto_front.tolist()"
   ]
  },
  {
   "cell_type": "code",
   "execution_count": 19,
   "metadata": {},
   "outputs": [
    {
     "data": {
      "text/plain": [
       "[]"
      ]
     },
     "execution_count": 19,
     "metadata": {},
     "output_type": "execute_result"
    }
   ],
   "source": [
    "best_companies"
   ]
  },
  {
   "cell_type": "code",
   "execution_count": null,
   "metadata": {},
   "outputs": [],
   "source": []
  },
  {
   "cell_type": "code",
   "execution_count": 37,
   "metadata": {},
   "outputs": [
    {
     "data": {
      "image/png": "[encoded data removed]",
      "text/plain": [
       "<Figure size 640x480 with 1 Axes>"
      ]
     },
     "metadata": {},
     "output_type": "display_data"
    }
   ],
   "source": [
    "import matplotlib.pyplot as plt\n",
    "\n",
    "plt.scatter(df['P/E (x)'], df['RoE (5 yrs, Avg. %)'], s=df['MCap (Rs m)']/10000, alpha=0.5)\n",
    "plt.xlabel('P/E')\n",
    "plt.ylabel('RoE')\n",
    "plt.title('Pareto Front Plot')\n",
    "plt.show()"
   ]
  },
  {
   "cell_type": "code",
   "execution_count": 24,
   "metadata": {},
   "outputs": [],
   "source": [
    "top_ten_combinations = df[(df['P/E (x)'] >= 10) & (df['P/E (x)'] <= 30)].nlargest(10, 'RoE (5 yrs, Avg. %)')"
   ]
  },
  {
   "cell_type": "code",
   "execution_count": 25,
   "metadata": {},
   "outputs": [
    {
     "data": {
      "text/html": [
       "<div>\n",
       "<style scoped>\n",
       "    .dataframe tbody tr th:only-of-type {\n",
       "        vertical-align: middle;\n",
       "    }\n",
       "\n",
       "    .dataframe tbody tr th {\n",
       "        vertical-align: top;\n",
       "    }\n",
       "\n",
       "    .dataframe thead th {\n",
       "        text-align: right;\n",
       "    }\n",
       "</style>\n",
       "<table border=\"1\" class=\"dataframe\">\n",
       "  <thead>\n",
       "    <tr style=\"text-align: right;\">\n",
       "      <th></th>\n",
       "      <th>Company</th>\n",
       "      <th>CMP (Rs)</th>\n",
       "      <th>P/E (x)</th>\n",
       "      <th>MCap (Rs m)</th>\n",
       "      <th>D/E (Curr FY, x)</th>\n",
       "      <th>RoE (5 yrs, Avg. %)</th>\n",
       "      <th>Div Payout Ratio</th>\n",
       "      <th>Profit CAGR (3 yrs,  %)</th>\n",
       "    </tr>\n",
       "  </thead>\n",
       "  <tbody>\n",
       "    <tr>\n",
       "      <th>71</th>\n",
       "      <td>LIFE INSURANCE CORPORATION</td>\n",
       "      <td>993.6</td>\n",
       "      <td>17.1</td>\n",
       "      <td>6284518.0</td>\n",
       "      <td>0.0</td>\n",
       "      <td>134.5</td>\n",
       "      <td>5.3</td>\n",
       "      <td>136.8%</td>\n",
       "    </tr>\n",
       "    <tr>\n",
       "      <th>60</th>\n",
       "      <td>INFOSYS</td>\n",
       "      <td>1533.4</td>\n",
       "      <td>24.2</td>\n",
       "      <td>6366309.0</td>\n",
       "      <td>0.0</td>\n",
       "      <td>28.6</td>\n",
       "      <td>72.6</td>\n",
       "      <td>10.6%</td>\n",
       "    </tr>\n",
       "    <tr>\n",
       "      <th>56</th>\n",
       "      <td>ITC</td>\n",
       "      <td>439.1</td>\n",
       "      <td>26.5</td>\n",
       "      <td>5482041.0</td>\n",
       "      <td>0.0</td>\n",
       "      <td>24.8</td>\n",
       "      <td>98.9</td>\n",
       "      <td>7.7%</td>\n",
       "    </tr>\n",
       "    <tr>\n",
       "      <th>78</th>\n",
       "      <td>ADANI POWER</td>\n",
       "      <td>767.3</td>\n",
       "      <td>14.2</td>\n",
       "      <td>2959236.0</td>\n",
       "      <td>0.8</td>\n",
       "      <td>24.0</td>\n",
       "      <td>0.0</td>\n",
       "      <td>154.1%</td>\n",
       "    </tr>\n",
       "    <tr>\n",
       "      <th>62</th>\n",
       "      <td>VEDANTA</td>\n",
       "      <td>460.5</td>\n",
       "      <td>22.7</td>\n",
       "      <td>1711588.0</td>\n",
       "      <td>2.0</td>\n",
       "      <td>22.6</td>\n",
       "      <td>260.3</td>\n",
       "      <td>NM</td>\n",
       "    </tr>\n",
       "    <tr>\n",
       "      <th>75</th>\n",
       "      <td>BAJAJ FINSERV</td>\n",
       "      <td>1564.7</td>\n",
       "      <td>16.0</td>\n",
       "      <td>2496461.0</td>\n",
       "      <td>4.6</td>\n",
       "      <td>22.0</td>\n",
       "      <td>1.0</td>\n",
       "      <td>26.8%</td>\n",
       "    </tr>\n",
       "    <tr>\n",
       "      <th>58</th>\n",
       "      <td>HCL TECHNOLOGIES</td>\n",
       "      <td>1431.1</td>\n",
       "      <td>24.7</td>\n",
       "      <td>3883390.0</td>\n",
       "      <td>0.0</td>\n",
       "      <td>21.9</td>\n",
       "      <td>87.7</td>\n",
       "      <td>10.3%</td>\n",
       "    </tr>\n",
       "    <tr>\n",
       "      <th>53</th>\n",
       "      <td>HERO MOTOCORP</td>\n",
       "      <td>5573.7</td>\n",
       "      <td>28.9</td>\n",
       "      <td>1114346.0</td>\n",
       "      <td>0.0</td>\n",
       "      <td>20.5</td>\n",
       "      <td>71.4</td>\n",
       "      <td>NM</td>\n",
       "    </tr>\n",
       "    <tr>\n",
       "      <th>68</th>\n",
       "      <td>POWER GRID</td>\n",
       "      <td>309.4</td>\n",
       "      <td>17.8</td>\n",
       "      <td>2877142.0</td>\n",
       "      <td>1.5</td>\n",
       "      <td>18.4</td>\n",
       "      <td>66.7</td>\n",
       "      <td>11.7%</td>\n",
       "    </tr>\n",
       "    <tr>\n",
       "      <th>59</th>\n",
       "      <td>JSW STEEL</td>\n",
       "      <td>912.0</td>\n",
       "      <td>24.4</td>\n",
       "      <td>2230254.0</td>\n",
       "      <td>1.2</td>\n",
       "      <td>17.5</td>\n",
       "      <td>19.8</td>\n",
       "      <td>1.8%</td>\n",
       "    </tr>\n",
       "  </tbody>\n",
       "</table>\n",
       "</div>"
      ],
      "text/plain": [
       "                       Company  CMP (Rs)  P/E (x)  MCap (Rs m)  \\\n",
       "71  LIFE INSURANCE CORPORATION     993.6     17.1    6284518.0   \n",
       "60                     INFOSYS    1533.4     24.2    6366309.0   \n",
       "56                         ITC     439.1     26.5    5482041.0   \n",
       "78                 ADANI POWER     767.3     14.2    2959236.0   \n",
       "62                     VEDANTA     460.5     22.7    1711588.0   \n",
       "75               BAJAJ FINSERV    1564.7     16.0    2496461.0   \n",
       "58            HCL TECHNOLOGIES    1431.1     24.7    3883390.0   \n",
       "53               HERO MOTOCORP    5573.7     28.9    1114346.0   \n",
       "68                  POWER GRID     309.4     17.8    2877142.0   \n",
       "59                   JSW STEEL     912.0     24.4    2230254.0   \n",
       "\n",
       "    D/E (Curr FY, x)  RoE (5 yrs, Avg. %)  Div Payout Ratio  \\\n",
       "71               0.0                134.5               5.3   \n",
       "60               0.0                 28.6              72.6   \n",
       "56               0.0                 24.8              98.9   \n",
       "78               0.8                 24.0               0.0   \n",
       "62               2.0                 22.6             260.3   \n",
       "75               4.6                 22.0               1.0   \n",
       "58               0.0                 21.9              87.7   \n",
       "53               0.0                 20.5              71.4   \n",
       "68               1.5                 18.4              66.7   \n",
       "59               1.2                 17.5              19.8   \n",
       "\n",
       "   Profit CAGR (3 yrs,  %)  \n",
       "71                  136.8%  \n",
       "60                   10.6%  \n",
       "56                    7.7%  \n",
       "78                  154.1%  \n",
       "62                      NM  \n",
       "75                   26.8%  \n",
       "58                   10.3%  \n",
       "53                      NM  \n",
       "68                   11.7%  \n",
       "59                    1.8%  "
      ]
     },
     "execution_count": 25,
     "metadata": {},
     "output_type": "execute_result"
    }
   ],
   "source": [
    "top_ten_combinations\n"
   ]
  },
  {
   "cell_type": "code",
   "execution_count": 33,
   "metadata": {},
   "outputs": [],
   "source": [
    "df.dropna(inplace=True)"
   ]
  },
  {
   "cell_type": "code",
   "execution_count": 34,
   "metadata": {},
   "outputs": [],
   "source": [
    "filtered_df = df[df['Company'].apply(lambda x: 'STEEL' in x)]\n"
   ]
  },
  {
   "cell_type": "code",
   "execution_count": 35,
   "metadata": {},
   "outputs": [
    {
     "data": {
      "text/html": [
       "<div>\n",
       "<style scoped>\n",
       "    .dataframe tbody tr th:only-of-type {\n",
       "        vertical-align: middle;\n",
       "    }\n",
       "\n",
       "    .dataframe tbody tr th {\n",
       "        vertical-align: top;\n",
       "    }\n",
       "\n",
       "    .dataframe thead th {\n",
       "        text-align: right;\n",
       "    }\n",
       "</style>\n",
       "<table border=\"1\" class=\"dataframe\">\n",
       "  <thead>\n",
       "    <tr style=\"text-align: right;\">\n",
       "      <th></th>\n",
       "      <th>Company</th>\n",
       "      <th>CMP (Rs)</th>\n",
       "      <th>P/E (x)</th>\n",
       "      <th>MCap (Rs m)</th>\n",
       "      <th>D/E (Curr FY, x)</th>\n",
       "      <th>RoE (5 yrs, Avg. %)</th>\n",
       "      <th>Div Payout Ratio</th>\n",
       "      <th>Profit CAGR (3 yrs,  %)</th>\n",
       "    </tr>\n",
       "  </thead>\n",
       "  <tbody>\n",
       "    <tr>\n",
       "      <th>59</th>\n",
       "      <td>JSW STEEL</td>\n",
       "      <td>912.0</td>\n",
       "      <td>24.4</td>\n",
       "      <td>2230254.0</td>\n",
       "      <td>1.2</td>\n",
       "      <td>17.5</td>\n",
       "      <td>19.8</td>\n",
       "      <td>1.8%</td>\n",
       "    </tr>\n",
       "    <tr>\n",
       "      <th>69</th>\n",
       "      <td>JINDAL STEEL &amp; POWER</td>\n",
       "      <td>1027.1</td>\n",
       "      <td>17.6</td>\n",
       "      <td>1047681.0</td>\n",
       "      <td>0.3</td>\n",
       "      <td>9.8</td>\n",
       "      <td>6.4</td>\n",
       "      <td>NM</td>\n",
       "    </tr>\n",
       "  </tbody>\n",
       "</table>\n",
       "</div>"
      ],
      "text/plain": [
       "                 Company  CMP (Rs)  P/E (x)  MCap (Rs m)  D/E (Curr FY, x)  \\\n",
       "59             JSW STEEL     912.0     24.4    2230254.0               1.2   \n",
       "69  JINDAL STEEL & POWER    1027.1     17.6    1047681.0               0.3   \n",
       "\n",
       "    RoE (5 yrs, Avg. %)  Div Payout Ratio Profit CAGR (3 yrs,  %)  \n",
       "59                 17.5              19.8                    1.8%  \n",
       "69                  9.8               6.4                      NM  "
      ]
     },
     "execution_count": 35,
     "metadata": {},
     "output_type": "execute_result"
    }
   ],
   "source": [
    "filtered_df"
   ]
  },
  {
   "cell_type": "code",
   "execution_count": null,
   "metadata": {},
   "outputs": [],
   "source": []
  }
 ],
 "metadata": {
  "kernelspec": {
   "display_name": "local",
   "language": "python",
   "name": "python3"
  },
  "language_info": {
   "codemirror_mode": {
    "name": "ipython",
    "version": 3
   },
   "file_extension": ".py",
   "mimetype": "text/x-python",
   "name": "python",
   "nbconvert_exporter": "python",
   "pygments_lexer": "ipython3",
   "version": "3.9.13"
  }
 },
 "nbformat": 4,
 "nbformat_minor": 2
}
